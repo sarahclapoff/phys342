{
 "cells": [
  {
   "cell_type": "code",
   "execution_count": 3,
   "metadata": {},
   "outputs": [],
   "source": [
    "import numpy as np\n",
    "import matplotlib.pyplot as plt\n",
    "from scipy import stats, optimize, misc\n"
   ]
  },
  {
   "cell_type": "code",
   "execution_count": 4,
   "metadata": {},
   "outputs": [],
   "source": [
    "pdf = lambda s,b: 2*s/(b*b) * ((b/np.sqrt(s*s - a*a)) - 1)"
   ]
  },
  {
   "cell_type": "markdown",
   "metadata": {},
   "source": [
    "#### 1. \n",
    "Write a simple program that simulates this situation with 𝑏 = 4 (randomly choosing two points and\n",
    "calculating the distance between them) to produce 100 independent values, 𝑠𝑖, 𝑖 = 1, … ,100. At the\n",
    "top of the program, call the seeding method “np.random.seed(1234)” to ensure that you will\n",
    "get the same results if you run the program at a later time.\n"
   ]
  },
  {
   "cell_type": "code",
   "execution_count": 5,
   "metadata": {},
   "outputs": [],
   "source": [
    "\n",
    "np.random.seed(1234)\n",
    "a = 1\n",
    "b = 4\n",
    "s = [] #list of s values\n",
    "n = 100\n",
    "\n",
    "for i in range (n):\n",
    "#points chosen on each rod\n",
    "    b1 = np.random.rand()*b #scale by length of rod\n",
    "    b2 = np.random.rand()*b\n",
    "    s.append(np.sqrt((b2-b1)**2 + a**2))"
   ]
  },
  {
   "cell_type": "markdown",
   "metadata": {},
   "source": [
    "2. \n",
    "Show the distribution of these values in a histogram with bin width 𝑤 = 0.1, with the left edge of\n",
    "the first bin at 𝑠 = 𝑎. Overlay on the histogram the probability distribution scaled appropriately (see\n",
    "p. 80). Start the curve at 𝑠 = 𝑎 + 𝑤/2 , and use points separated by 𝑤/5 to define the curve."
   ]
  },
  {
   "cell_type": "code",
   "execution_count": 6,
   "metadata": {
    "scrolled": true
   },
   "outputs": [
    {
     "data": {
      "image/png": "[encoded data removed]",
      "text/plain": [
       "<Figure size 432x288 with 1 Axes>"
      ]
     },
     "metadata": {
      "needs_background": "light"
     },
     "output_type": "display_data"
    }
   ],
   "source": [
    "#histogram time\n",
    "#default align=mid gives left edge of first bin at s=a\n",
    "w = .1\n",
    "x_max = max(s)+.2\n",
    "plt.hist(s, bins=np.arange(a, x_max, w))#, align=\"right\")\n",
    "\n",
    "# overlay scaled PDF with finer bins to get a smooth curve\n",
    "#scaling factor: pdf*numpoints*binwidth\n",
    "x_points = np.arange((a+w/2), x_max, w/5)\n",
    "y_points = n*w*pdf(x_points, b)\n",
    "plt.plot(x_points, y_points)\n",
    "plt.show()"
   ]
  },
  {
   "cell_type": "markdown",
   "metadata": {},
   "source": [
    "3. \n",
    "We will use the maximum likelihood method to estimate the parameter 𝑏 using a numerical\n",
    "optimizer. Write a function that calculates the negative of the log of the likelihood function. (We use\n",
    "the negative LL, because the optimizer finds the minimum of a function.) The function should have\n",
    "one parameter, the value of 𝑏 for which the function is calculated."
   ]
  },
  {
   "cell_type": "code",
   "execution_count": 7,
   "metadata": {},
   "outputs": [],
   "source": [
    "def negLogLikelihood(b_val):\n",
    "    #statement to calculate the neg logarithm of the likelihood\n",
    "    #return answer\n",
    "    sum = 0\n",
    "    for i in range(n):\n",
    "        temp_sum = np.log(pdf(s[i], b_val))\n",
    "        sum -= temp_sum\n",
    "    return sum"
   ]
  },
  {
   "cell_type": "markdown",
   "metadata": {},
   "source": [
    "4. On a separate plot, show the negative log likelihood function. To avoid values of 𝑏 for which the\n",
    "likelihood function is zero, first calculate the minimum value of 𝑏 consistent with the dataset: 𝑏min.\n",
    "(This is given by 𝑏min^2 = 𝑠max^2 − 𝑎^2. You can use np.amax(array) to find the maximum value of\n",
    "an array.) Plot the function between 𝑏min + 𝑤/10 and 𝑏min + 1, using points separated by 𝑤/10 to\n",
    "define the curve."
   ]
  },
  {
   "cell_type": "code",
   "execution_count": 8,
   "metadata": {
    "scrolled": false
   },
   "outputs": [
    {
     "data": {
      "image/png": "[encoded data removed]",
      "text/plain": [
       "<Figure size 432x288 with 1 Axes>"
      ]
     },
     "metadata": {
      "needs_background": "light"
     },
     "output_type": "display_data"
    }
   ],
   "source": [
    "bmin = np.sqrt(max(s)**2 - a**2)\n",
    "\n",
    "#plot is negloglikelihood(b_val) vs b_val\n",
    "b_vals = np.arange(bmin+w/10, bmin+1, w/10)\n",
    "neg_logs = negLogLikelihood(b_vals)\n",
    "plt.plot(b_vals, neg_logs)\n",
    "plt.title(\"Negative Log Likelihood Function\")\n",
    "plt.xlabel(\"b\")\n",
    "plt.ylabel(\"negLogLikelihood(b)\")\n",
    "plt.show()"
   ]
  },
  {
   "cell_type": "markdown",
   "metadata": {},
   "source": [
    "5. Use methods provided by the scipy library to numerically find the maximum likelihood estimate, 𝑏hat\n",
    "and the standard deviation of the estimator, 𝜎_𝑏. Check out the file onePar.ipynb in the Jupyter Lab\n",
    "examples (under estimating parameters) to see how this is done."
   ]
  },
  {
   "cell_type": "code",
   "execution_count": 37,
   "metadata": {
    "scrolled": true
   },
   "outputs": [
    {
     "name": "stdout",
     "output_type": "stream",
     "text": [
      "The maximum likelihood estimate for b is 3.7618 +/- 0.1468\n"
     ]
    }
   ],
   "source": [
    "# find the value for b that minimizes the negative log likelihood function:\n",
    "result = optimize.minimize_scalar(negLogLikelihood,bounds =(bmin, bmin+1),method='bounded')\n",
    "b_hat = result.x\n",
    "\n",
    "# find the second derivative of the negative log likelihood function at the point of maximum likelihood\n",
    "#decreasing values of dx give more accurate approximations of derivitive,\n",
    "#from central difference formula used for derivative approx in misc.derivative().\n",
    "#However note: if dx is too small, results in roundoff errors (no longer a good approx)\n",
    "#NOTE FROM FUTURE SARAH: it's not roundoff errors, it's global and local truncation errors \n",
    "#produces as result of derivation method!!\n",
    "#Here, .1>=dx>=1e-6 produce values of sig_b that converge to 1.47, but dx<=1e-7 produce roundoff errors.\n",
    "#So, use dx=1e-6.\n",
    "result2 = misc.derivative(negLogLikelihood,b_hat,dx=1e-6,n=2)\n",
    "sig_b = 1./np.sqrt(result2)\n",
    "\n",
    "print(\"The maximum likelihood estimate for b is {0:5.4f} +/- {1:5.4f}\".format(b_hat,sig_b))"
   ]
  },
  {
   "cell_type": "markdown",
   "metadata": {},
   "source": [
    "6. As an alternative method, analytically differentiate the log likelihood function to find the equation\n",
    "to calculate the second derivative. What value do you get for the standard deviation of the\n",
    "estimator by this method? Is it close to the value found in Q5?"
   ]
  },
  {
   "cell_type": "code",
   "execution_count": 34,
   "metadata": {},
   "outputs": [
    {
     "name": "stdout",
     "output_type": "stream",
     "text": [
      "The standard deviation of b_hat found analytically is 0.156, which is close to the value found in Q5, as expected\n"
     ]
    }
   ],
   "source": [
    "#use b_hat from Q5\n",
    "sum_5 = 0\n",
    "for i in range (n):\n",
    "    sum_5 = -1/(-b + np.sqrt(s[i]**2 + a**2))**2\n",
    "sig_b_analytic = 1/(n/b**2 - sum_5)\n",
    "print(\"The standard deviation of b_hat found analytically is %.3f, which is close to the value found in Q5, as expected\" %(sig_b_analytic))"
   ]
  },
  {
   "cell_type": "markdown",
   "metadata": {},
   "source": [
    "7. Repeat 1000 experiments (each with 100 values 𝑠𝑖) and plot the distribution of 𝑏_hat (see Q5). Compare\n",
    "the standard deviation of that distribution with the values for 𝜎_bhat found in Q5 and Q6. Is the\n",
    "maximum likelihood estimator biased?"
   ]
  },
  {
   "cell_type": "code",
   "execution_count": null,
   "metadata": {},
   "outputs": [],
   "source": [
    "for i in range(1000):\n",
    "    "
   ]
  }
 ],
 "metadata": {
  "kernelspec": {
   "display_name": "Python 3",
   "language": "python",
   "name": "python3"
  },
  "language_info": {
   "codemirror_mode": {
    "name": "ipython",
    "version": 3
   },
   "file_extension": ".py",
   "mimetype": "text/x-python",
   "name": "python",
   "nbconvert_exporter": "python",
   "pygments_lexer": "ipython3",
   "version": "3.7.4"
  }
 },
 "nbformat": 4,
 "nbformat_minor": 2
}
