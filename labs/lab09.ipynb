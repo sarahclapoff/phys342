{
 "cells": [
  {
   "cell_type": "markdown",
   "metadata": {},
   "source": [
    "## Phys 342 Lab 9\n",
    "\n",
    "This lab applies the least squares method to estimate parameters that are not linear model coefficients. As a result the goodness of fit test using the value of minimum $\\chi^2$ is not exact.\n",
    "\n",
    "Model: $E[V_i] = \\alpha t_i \\cos(\\beta t_i)$\n",
    "\n",
    "$V_i$ are gaussian distributed with standard deviation $\\sigma_i$. The data is generated using random numbers with a defined seed, so the results are reproducable, if the entire notebook is rerun (Kernel -> restart & run all)\n",
    "\n",
    "Some cells are missing code that needs to be added to complete the lab."
   ]
  },
  {
   "cell_type": "code",
   "execution_count": 22,
   "metadata": {},
   "outputs": [],
   "source": [
    "# cell #1: generic setup\n",
    "import numpy as np\n",
    "from scipy import stats, optimize\n",
    "%matplotlib inline\n",
    "import matplotlib.pyplot as plt"
   ]
  },
  {
   "cell_type": "code",
   "execution_count": 23,
   "metadata": {},
   "outputs": [],
   "source": [
    "# cell #2: define basic parameters, the model, and create a reference dataset \n",
    "\n",
    "#set the seed for random number generation, so the results are reproducable\n",
    "np.random.seed(seed=123456)\n",
    "\n",
    "# define the parameters of the problem\n",
    "n = 8 # number of data points\n",
    "trange = [0.,4.] # range within t_i values are drawn\n",
    "srange = [0.2,1.0] # corresponding range of sigma_i values\n",
    "a_true = 1.5 # true value for the parameter a\n",
    "b_true = 2.0 # true value for the parameter b\n",
    "\n",
    "# Our model:\n",
    "def model(a,b,t):\n",
    "    return a*t*np.cos(b*t)\n",
    "\n",
    "def get_data():\n",
    "    dt = (trange[1]-trange[0])/n # distance between t values\n",
    "    t = np.arange(trange[0]+dt,trange[1]+0.001,dt) # 0.001 added to ensure exactly n points in arange\n",
    "    sigma = (t-trange[0])/(trange[1]-trange[0])*(srange[1]-srange[0]) + srange[0]\n",
    "    v = model(a_true,b_true,t) + stats.norm.rvs(scale=sigma)\n",
    "    return t, v, sigma\n",
    "\n",
    "# Reference data:\n",
    "t, v, sigma = get_data()"
   ]
  },
  {
   "cell_type": "code",
   "execution_count": 24,
   "metadata": {},
   "outputs": [
    {
     "name": "stdout",
     "output_type": "stream",
     "text": [
      "With test with the assumed true values, chi2 = 6.47 as expected.\n"
     ]
    }
   ],
   "source": [
    "# cell #3: calculate chi^2 for particular choice of parameter values\n",
    "\n",
    "# input: args: [a,b]\n",
    "\n",
    "def chi2(args):\n",
    "    a = args[0]\n",
    "    b = args[1]\n",
    "    value = np.sum((v - model(a,b,t))**2/sigma**2)\n",
    "    return value\n",
    "\n",
    "ass_test = chi2([a_true,b_true])\n",
    "print(\"With test with the assumed true values, chi2 = %.2f as expected.\" %(ass_test))"
   ]
  },
  {
   "cell_type": "code",
   "execution_count": 25,
   "metadata": {},
   "outputs": [
    {
     "name": "stdout",
     "output_type": "stream",
     "text": [
      "Parameter estimates:\n",
      "  a-hat =  1.75 +/-  0.16\n",
      "  b-hat =  2.03 +/-  0.03\n",
      "Correlation coeff = -0.01\n",
      "chi^2 min =  3.13\n",
      "chi^2 true =  6.47\n"
     ]
    }
   ],
   "source": [
    "# cell #4: find best estimates for parameters using least squares for the reference dataset\n",
    "\n",
    "# start with a guess and find the parameters that minimize the chi2 function\n",
    "guess = [1.3,1.3]\n",
    "# the optimize.minimize method calls the chi2 function several times to find\n",
    "# parameters that produce the minimum value of that function \n",
    "# it starts from the parameters stored in guess\n",
    "result = optimize.minimize(chi2,guess)\n",
    "a_est = result.x[0]; b_est = result.x[1]\n",
    "\n",
    "# the one standard deviation uncertainties are estimated by the second derivatives of the function\n",
    "# since we are using chi2 instead of log-likelihood, factors of 2 needs to be included\n",
    "sig_a = np.sqrt(result.hess_inv[0,0]*2.)\n",
    "sig_b = np.sqrt(result.hess_inv[1,1]*2.)\n",
    "rho = result.hess_inv[0,1]*2./sig_a/sig_b\n",
    "\n",
    "print(\"Parameter estimates:\")\n",
    "print(\"  a-hat = %5.2f +/- %5.2f\" %(result.x[0],sig_a))\n",
    "print(\"  b-hat = %5.2f +/- %5.2f\" %(result.x[1],sig_b))\n",
    "print(\"Correlation coeff = %5.2f\" %(rho))\n",
    "\n",
    "print(\"chi^2 min = %5.2f\" %(chi2([a_est,b_est])))\n",
    "print(\"chi^2 true = %5.2f\" %(chi2([a_true,b_true])))"
   ]
  },
  {
   "cell_type": "code",
   "execution_count": 26,
   "metadata": {
    "scrolled": true
   },
   "outputs": [
    {
     "data": {
      "image/png": "[encoded data removed]",
      "text/plain": [
       "<Figure size 432x288 with 1 Axes>"
      ]
     },
     "metadata": {
      "needs_background": "light"
     },
     "output_type": "display_data"
    }
   ],
   "source": [
    "# cell #5: compare visually the data and the model\n",
    "\n",
    "fig, axes = plt.subplots()\n",
    "tarray = np.arange(trange[0],trange[1],0.02)\n",
    "varray = model(a_true,b_true,tarray)\n",
    "vfit = model(a_est,b_est,tarray)\n",
    "axes.plot(tarray,varray,label=\"truth\")\n",
    "axes.plot(tarray,vfit,label=\"fit\")\n",
    "axes.errorbar(t,v,yerr=sigma,marker='.',linestyle='none',label='data')\n",
    "plt.legend();"
   ]
  },
  {
   "cell_type": "code",
   "execution_count": 27,
   "metadata": {
    "scrolled": false
   },
   "outputs": [
    {
     "name": "stdout",
     "output_type": "stream",
     "text": [
      " \n",
      "74.90300200558535\n",
      "-54.749015926446845\n",
      "-66.60709152274165\n",
      "90.41033760861502\n",
      "-70.66267044515172\n",
      "-97.19232016519096\n",
      "68.66007337419384\n",
      "-179.3560516006303\n",
      "351.734318474355\n",
      "-50.49583371017559\n",
      "-50.170843402785174\n",
      "78.97064611851086\n",
      "76.53134935742948\n"
     ]
    }
   ],
   "source": [
    "#Cell #6\n",
    "pull_a = []\n",
    "pull_b = []\n",
    "for i in range(1000):\n",
    "    v, t, sigma = get_data()\n",
    "    \n",
    "    guess = [1.3,1.3]\n",
    "    result = optimize.minimize(chi2,guess)\n",
    "    a_est = result.x[0]; b_est = result.x[1]\n",
    "\n",
    "    sig_a = np.sqrt(result.hess_inv[0,0]*2.)\n",
    "    sig_b = np.sqrt(result.hess_inv[1,1]*2.)\n",
    "    rho = result.hess_inv[0,1]*2./sig_a/sig_b\n",
    "\n",
    "    pull_a.append((a_est - a_true)/sig_a)\n",
    "    pull_b.append((b_est - b_true)/sig_b)\n",
    "\n",
    "n=50\n",
    "for i in pull_a:\n",
    "    if abs(i)>n:\n",
    "        print(i)\n",
    "print(\" \")\n",
    "for i in pull_b:\n",
    "    if abs(i)>n:\n",
    "        print(i)"
   ]
  },
  {
   "cell_type": "code",
   "execution_count": 28,
   "metadata": {},
   "outputs": [
    {
     "data": {
      "image/png": "[encoded data removed]",
      "text/plain": [
       "<Figure size 432x288 with 1 Axes>"
      ]
     },
     "metadata": {
      "needs_background": "light"
     },
     "output_type": "display_data"
    },
    {
     "name": "stdout",
     "output_type": "stream",
     "text": [
      "-4.370451972404176\n"
     ]
    },
    {
     "data": {
      "image/png": "[encoded data removed]",
      "text/plain": [
       "<Figure size 432x288 with 1 Axes>"
      ]
     },
     "metadata": {
      "needs_background": "light"
     },
     "output_type": "display_data"
    }
   ],
   "source": [
    "#make standard Gaussian pdf:\n",
    "mean = 0; standardDeviation = 1; dxMax = 25#max(pull_a) #maybe 25 instead? bc there are weird outliers\n",
    "x = np.arange(mean-dxMax,mean+dxMax,dxMax/100)\n",
    "g_pdf = stats.norm.pdf(x,loc=mean,scale=standardDeviation)*100\n",
    "\n",
    "#scaling factor means that y=pdf*numpoints*binwidth\n",
    "\n",
    "#plot pull_a dist and standard gaussian:    \n",
    "plt.hist(pull_a,bins=np.arange(-25,25,1), rwidth=.8) #alternatively: np.arange(min(pull_a), max(pull_a),1) but tthis takes a long time\n",
    "plt.plot(x, g_pdf, color=\"pink\")\n",
    "plt.title(\"Pull_a and Standard Gaussian Distributions\", color=\"grey\")\n",
    "plt.xlabel(\"pull_a(a-hat)\", color=\"grey\")\n",
    "plt.ylabel(\"counts\", color=\"grey\")\n",
    "plt.show()\n",
    "\n",
    "#pull_a mean\n",
    "mean = np.sum(pull_a)/len(pull_a)\n",
    "print(mean)\n",
    "\n",
    "#plot pull_b dist and standard gaussian\n",
    "plt.hist(pull_b,)\n",
    "plt.plot(x,g_pdf, color='coral')\n",
    "plt.show()\n"
   ]
  },
  {
   "cell_type": "code",
   "execution_count": null,
   "metadata": {},
   "outputs": [],
   "source": []
  },
  {
   "cell_type": "code",
   "execution_count": null,
   "metadata": {},
   "outputs": [],
   "source": []
  }
 ],
 "metadata": {
  "kernelspec": {
   "display_name": "Python 3",
   "language": "python",
   "name": "python3"
  },
  "language_info": {
   "codemirror_mode": {
    "name": "ipython",
    "version": 3
   },
   "file_extension": ".py",
   "mimetype": "text/x-python",
   "name": "python",
   "nbconvert_exporter": "python",
   "pygments_lexer": "ipython3",
   "version": "3.7.4"
  }
 },
 "nbformat": 4,
 "nbformat_minor": 2
}
