{
 "cells": [
  {
   "cell_type": "code",
   "execution_count": 2,
   "metadata": {},
   "outputs": [],
   "source": [
    "import matplotlib.pyplot as plt\n",
    "import numpy as np"
   ]
  },
  {
   "cell_type": "code",
   "execution_count": 3,
   "metadata": {},
   "outputs": [],
   "source": [
    "#a = normalization constant\n",
    "a = 4/(1-np.exp(-4))\n",
    "tcut = .67\n",
    "getH0 = lambda t: a*np.exp(-4*t)\n",
    "getH1 = lambda t: 2*np.sin(np.pi*t)**2"
   ]
  },
  {
   "cell_type": "code",
   "execution_count": 4,
   "metadata": {},
   "outputs": [],
   "source": [
    "#Method to predict the next random number according to H0's pdf\n",
    "#using transformation method\n",
    "#Returns a single random number t generated according to \n",
    "#g(t|H0), 0<=t<=1; returns 0 otherwise\n",
    "def nextvalueforH0():\n",
    "    r = np.random.rand()\n",
    "    t = -1/4*np.log(-r*4/a + 1)\n",
    "    return t"
   ]
  },
  {
   "cell_type": "code",
   "execution_count": 5,
   "metadata": {},
   "outputs": [],
   "source": [
    "#Method to predict the next random number according to H1's pdf\n",
    "#using acception/rejection method\n",
    "#returns a single random num t generated according to\n",
    "#g(t|H1).\n",
    "#NOTE: g(t|H1) = 2sin(pi*t) so max is at 2, so fbig = 2\n",
    "\n",
    "#HOW DOES ACCEPT/REJECT WORK??\n",
    "#want to get dist of random numbers t that fit the g(t|H1) pdf\n",
    "def nextvalueforH1():\n",
    "    test = False\n",
    "    while(not test):\n",
    "        t_test = np.random.rand()\n",
    "        y = 2*np.random.rand()\n",
    "        if(y < getH1(t_test)):\n",
    "            #accept\n",
    "            return t_test"
   ]
  },
  {
   "cell_type": "code",
   "execution_count": 9,
   "metadata": {},
   "outputs": [
    {
     "name": "stdout",
     "output_type": "stream",
     "text": [
      "500  experiments result in rejecting H0 at the 95% confidence level when H0 is true.\n",
      "So there are  500  type 1 errors.\n"
     ]
    }
   ],
   "source": [
    "#part (a):\n",
    "c_type1_err = 0\n",
    "H0_accept = []\n",
    "for i in range(10000):\n",
    "    t = nextvalueforH0()\n",
    "    if(t > tcut):\n",
    "        c_type1_err += 1\n",
    "    else:\n",
    "        H0_accept.append(t)\n",
    "print(c_type1_err, \" experiments result in rejecting H0 at the 95% confidence level when H0 is true.\")\n",
    "print(\"So there are \", c_type1_err, \" type 1 errors.\")"
   ]
  },
  {
   "cell_type": "code",
   "execution_count": 10,
   "metadata": {},
   "outputs": [
    {
     "name": "stdout",
     "output_type": "stream",
     "text": [
      "8056  experiments result in accepting H0 at the 95% confidence level when H1 is true.\n",
      "So there are  8056  type 2 errors.\n"
     ]
    }
   ],
   "source": [
    "#part (b)\n",
    "c_type2_err = 0\n",
    "H1_accept = []\n",
    "for i in range(10000):\n",
    "    t = nextvalueforH1()\n",
    "    if(t < tcut):\n",
    "        c_type2_err += 1\n",
    "    else:\n",
    "        H1_accept.append(t)\n",
    "    \n",
    "print(c_type2_err, \" experiments result in accepting H0 at the 95% confidence level when H1 is true.\")\n",
    "print(\"So there are \", c_type2_err, \" type 2 errors.\")"
   ]
  },
  {
   "cell_type": "code",
   "execution_count": 60,
   "metadata": {},
   "outputs": [
    {
     "data": {
      "image/png": "[encoded data removed]",
      "text/plain": [
       "<Figure size 432x288 with 1 Axes>"
      ]
     },
     "metadata": {
      "needs_background": "light"
     },
     "output_type": "display_data"
    }
   ],
   "source": [
    "#histogram time\n",
    "#Show a histogram for t for each of these samples (20 bins from 0-1) and overlay the curve that shows\n",
    "#the expected number in each bin (in other words – the properly scaled pdf).\n",
    "\n",
    "plt.hist(H0_accept, bins=np.arange(0,1,.05), rwidth=.86)\n",
    "plt.xlim(0,1)\n",
    "\n",
    "# overlay scaled PDF with finer bins to get a smooth curve\n",
    "x_points = np.linspace(0,1,100)\n",
    "y_points = 10000*.05*a*np.exp(-4*x_points)\n",
    "plt.plot(x_points, y_points)\n",
    "plt.show()"
   ]
  },
  {
   "cell_type": "code",
   "execution_count": 63,
   "metadata": {},
   "outputs": [
    {
     "data": {
      "image/png": "[encoded data removed]",
      "text/plain": [
       "<Figure size 432x288 with 1 Axes>"
      ]
     },
     "metadata": {
      "needs_background": "light"
     },
     "output_type": "display_data"
    }
   ],
   "source": [
    "#(b) histogram time\n",
    "#Show a histogram for t for each of these samples (20 bins from 0-1) and overlay the curve that shows\n",
    "#the expected number in each bin (in other words – the properly scaled pdf).\n",
    "\n",
    "plt.hist(H1_accept, bins=np.arange(0,1,.05), rwidth=.86)\n",
    "plt.xlim(0,1)\n",
    "\n",
    "# overlay scaled PDF with finer bins to get a smooth curve\n",
    "x1_points = np.linspace(0,1,100)\n",
    "y1_points = 10000*.05*getH1(x_points)\n",
    "plt.plot(x1_points, y1_points)\n",
    "plt.show()"
   ]
  },
  {
   "cell_type": "markdown",
   "metadata": {},
   "source": [
    "The above histograms are as expected, as the type 2 errors are the rejected values of H0 when H1 is true.\n",
    "So they are opposite slices of the pdf, where the slice is tcut."
   ]
  },
  {
   "cell_type": "code",
   "execution_count": null,
   "metadata": {},
   "outputs": [],
   "source": []
  }
 ],
 "metadata": {
  "kernelspec": {
   "display_name": "Python 3",
   "language": "python",
   "name": "python3"
  },
  "language_info": {
   "codemirror_mode": {
    "name": "ipython",
    "version": 3
   },
   "file_extension": ".py",
   "mimetype": "text/x-python",
   "name": "python",
   "nbconvert_exporter": "python",
   "pygments_lexer": "ipython3",
   "version": "3.7.4"
  }
 },
 "nbformat": 4,
 "nbformat_minor": 2
}
