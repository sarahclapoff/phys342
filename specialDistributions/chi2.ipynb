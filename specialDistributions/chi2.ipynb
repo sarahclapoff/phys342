{
 "cells": [
  {
   "cell_type": "markdown",
   "metadata": {},
   "source": [
    "## $\\chi^2$ distribution\n",
    "\n",
    "Show the probability density function. Use the built in function to calculate the integral from \"obsChi2\" to $\\infty$.\n",
    "$$\\int_{\\chi^2_{obs}}^\\infty f(z|n)\\,dz = 1 - \\int_{-\\infty}^{\\chi^2_{obs}} f(z|n)\\,dz = 1 - F(\\chi^2_{obs}|n)$$"
   ]
  },
  {
   "cell_type": "code",
   "execution_count": null,
   "metadata": {},
   "outputs": [],
   "source": [
    "import numpy as np\n",
    "from scipy import stats\n",
    "import pandas as pd\n",
    "\n",
    "%matplotlib inline\n",
    "import matplotlib.pyplot as plt"
   ]
  },
  {
   "cell_type": "code",
   "execution_count": null,
   "metadata": {},
   "outputs": [],
   "source": [
    "nDof = 5; maxChi2 = 20.; obsChi2 = 7;\n",
    "zArray = np.arange(0.,maxChi2,maxChi2/100)\n",
    "probabilityDensity = stats.chi2.pdf(zArray,nDof)\n",
    "plt.plot(zArray,probabilityDensity);\n",
    "plt.title(\"$\\chi^2$ Distribution\"); plt.xlabel(\"z\"); plt.ylabel(\"probability density\");\n",
    "\n",
    "tailArray = np.arange(obsChi2,maxChi2,maxChi2/100)\n",
    "tailProbabilityDensity = stats.chi2.pdf(tailArray,nDof)\n",
    "plt.fill_between(tailArray, 0, tailProbabilityDensity)\n",
    "\n",
    "plt.show()\n",
    "\n",
    "print(\"Probabilty for chi^2>7 for {0:d} degrees of freedom = {1:5.3f}\".format(nDof,(1-stats.chi2.cdf(obsChi2,nDof))))"
   ]
  },
  {
   "cell_type": "code",
   "execution_count": null,
   "metadata": {},
   "outputs": [],
   "source": []
  }
 ],
 "metadata": {
  "kernelspec": {
   "display_name": "Python 3",
   "language": "python",
   "name": "python3"
  },
  "language_info": {
   "codemirror_mode": {
    "name": "ipython",
    "version": 3
   },
   "file_extension": ".py",
   "mimetype": "text/x-python",
   "name": "python",
   "nbconvert_exporter": "python",
   "pygments_lexer": "ipython3",
   "version": "3.6.8"
  }
 },
 "nbformat": 4,
 "nbformat_minor": 4
}
