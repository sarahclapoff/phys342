{
 "cells": [
  {
   "cell_type": "markdown",
   "metadata": {},
   "source": [
    "# Binomial distribution"
   ]
  },
  {
   "cell_type": "code",
   "execution_count": null,
   "metadata": {},
   "outputs": [],
   "source": [
    "import numpy as np\n",
    "from scipy import stats\n",
    "import pandas as pd\n",
    "\n",
    "%matplotlib inline\n",
    "import matplotlib.pyplot as plt"
   ]
  },
  {
   "cell_type": "code",
   "execution_count": null,
   "metadata": {},
   "outputs": [],
   "source": [
    "fig = plt.figure(figsize=(10,10))\n",
    "fig.subplots_adjust(hspace=0.3)\n",
    "\n",
    "# Show the probability mass function for a particular binomial distribution\n",
    "plt.subplot(2,1,1)\n",
    "nTrial, pSuccess = 20, 0.1\n",
    "probabilityMassFunction = stats.binom.pmf(range(nTrial),nTrial,pSuccess)\n",
    "plt.bar(range(nTrial),probabilityMassFunction,width=0.5,align='center')\n",
    "plt.title(\"Binomial Distribution\")\n",
    "plt.xlabel(\"number of successes\"); plt.ylabel(\"probability\")\n",
    "\n",
    "# Simulate binomial process using numpy method (a Monte Carlo method)\n",
    "plt.subplot(2,1,2)\n",
    "data = stats.binom.rvs(nTrial, pSuccess, size=200)\n",
    "counts = np.bincount(data,minlength=nTrial)\n",
    "plt.bar(range(nTrial),counts,width=0.5,align='center')\n",
    "plt.title(\"Distribution from simulation\")\n",
    "plt.xlabel(\"outcome\"); plt.ylabel(\"frequency\")\n",
    "\n",
    "plt.show()"
   ]
  },
  {
   "cell_type": "code",
   "execution_count": null,
   "metadata": {},
   "outputs": [],
   "source": []
  }
 ],
 "metadata": {
  "kernelspec": {
   "display_name": "Python 3",
   "language": "python",
   "name": "python3"
  },
  "language_info": {
   "codemirror_mode": {
    "name": "ipython",
    "version": 3
   },
   "file_extension": ".py",
   "mimetype": "text/x-python",
   "name": "python",
   "nbconvert_exporter": "python",
   "pygments_lexer": "ipython3",
   "version": "3.6.8"
  }
 },
 "nbformat": 4,
 "nbformat_minor": 2
}
